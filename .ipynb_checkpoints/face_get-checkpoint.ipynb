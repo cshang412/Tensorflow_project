{
 "cells": [
  {
   "cell_type": "code",
   "execution_count": null,
   "metadata": {
    "collapsed": true
   },
   "outputs": [],
   "source": [
    "import cv2\n",
    "import os \n",
    "import sys \n",
    "import random\n",
    "import dlib"
   ]
  },
  {
   "cell_type": "code",
   "execution_count": null,
   "metadata": {},
   "outputs": [],
   "source": [
    "output_dir = './my_faces2'\n",
    "size = 64\n",
    "\n",
    "if not os.path.exists(output_dir):\n",
    "    os.makedirs(output_dir)\n",
    "\n",
    "# 改变图片的亮度与对比度\n",
    "def relight(img, light=1, bias=0):\n",
    "    w = img.shape[1]\n",
    "    h = img.shape[0]\n",
    "    #image = []\n",
    "    for i in range(0,w):\n",
    "        for j in range(0,h):\n",
    "            for c in range(3):\n",
    "                tmp = int(img[j,i,c]*light + bias)\n",
    "                if tmp > 255:\n",
    "                    tmp = 255\n",
    "                elif tmp < 0:\n",
    "                    tmp = 0\n",
    "                img[j, i, c] = tmp\n",
    "    return img\n",
    "\n",
    "# 使用dlib自带的frontal_face_detector作为我们的特征提取器\n",
    "detector = dlib.get_frontal_face_detector()\n",
    "# 打开摄像头 参数为输入流，可以为摄像头或视频文件\n",
    "camera = cv2.VideoCapture(0)\n",
    "\n",
    "index = 1\n",
    "while True:\n",
    "    if (index <= 1000):\n",
    "        print('Being processed picture %s' % index)\n",
    "        # 从摄像头读取照片\n",
    "        success, img = camera.read()\n",
    "        # 转为灰度图片\n",
    "        gray_img =cv2.cvtColor(img, cv2.COLOR_BGR2GRAY)\n",
    "        # 使用detector进行人脸检测\n",
    "        dets = detector(gray_img, 1)\n",
    "\n",
    "        for i, d in enumerate(dets):\n",
    "            x1 = d.top() if d.top() > 0 else 0\n",
    "            y1 = d.bottom() if d.bottom() > 0 else 0\n",
    "            x2 = d.left() if d.left() > 0 else 0\n",
    "            y2 = d.right() if d.right() > 0 else 0\n",
    "\n",
    "            face = img[x1:y1, x2:y2]\n",
    "            # 调整图片的对比度与亮度， 对比度与亮度值都取随机数，这样能增加样本的多样性\n",
    "            face = relight(face, random.uniform(0.5, 1.5), random.randint(-50, 50))\n",
    "            face = cv2.resize(face, (size,size))\n",
    "            cv2.imshow('image', face)\n",
    "            cv2.imwrite(output_dir+'/'+str(index)+'.jpg', face)\n",
    "            index += 1\n",
    "\n",
    "        key = cv2.waitKey(30) & 0xff\n",
    "        if key == 27:\n",
    "            break\n",
    "    else:\n",
    "        print('Finished!')\n",
    "        break"
   ]
  },
  {
   "cell_type": "code",
   "execution_count": null,
   "metadata": {
    "collapsed": true
   },
   "outputs": [],
   "source": []
  },
  {
   "cell_type": "code",
   "execution_count": null,
   "metadata": {
    "collapsed": true
   },
   "outputs": [],
   "source": []
  }
 ],
 "metadata": {
  "kernelspec": {
   "display_name": "Python 3",
   "language": "python",
   "name": "python3"
  },
  "language_info": {
   "codemirror_mode": {
    "name": "ipython",
    "version": 3
   },
   "file_extension": ".py",
   "mimetype": "text/x-python",
   "name": "python",
   "nbconvert_exporter": "python",
   "pygments_lexer": "ipython3",
   "version": "3.6.1"
  }
 },
 "nbformat": 4,
 "nbformat_minor": 2
}
